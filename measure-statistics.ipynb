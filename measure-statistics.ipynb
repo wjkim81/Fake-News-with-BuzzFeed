{
 "cells": [
  {
   "cell_type": "code",
   "execution_count": 1,
   "metadata": {
    "collapsed": true
   },
   "outputs": [],
   "source": [
    "import pandas as pd\n",
    "import numpy as np\n",
    "\n",
    "%matplotlib inline\n",
    "import matplotlib.pyplot as plt"
   ]
  },
  {
   "cell_type": "code",
   "execution_count": 4,
   "metadata": {},
   "outputs": [
    {
     "data": {
      "text/html": [
       "<div>\n",
       "<style>\n",
       "    .dataframe thead tr:only-child th {\n",
       "        text-align: right;\n",
       "    }\n",
       "\n",
       "    .dataframe thead th {\n",
       "        text-align: left;\n",
       "    }\n",
       "\n",
       "    .dataframe tbody tr th {\n",
       "        vertical-align: top;\n",
       "    }\n",
       "</style>\n",
       "<table border=\"1\" class=\"dataframe\">\n",
       "  <thead>\n",
       "    <tr style=\"text-align: right;\">\n",
       "      <th></th>\n",
       "      <th>Unnamed: 0</th>\n",
       "      <th>account_id</th>\n",
       "      <th>post_id</th>\n",
       "      <th>rating</th>\n",
       "      <th>image url</th>\n",
       "      <th>cosine similarity</th>\n",
       "      <th>message</th>\n",
       "      <th>text</th>\n",
       "      <th>ocr text</th>\n",
       "      <th>downloaded image location</th>\n",
       "    </tr>\n",
       "  </thead>\n",
       "  <tbody>\n",
       "    <tr>\n",
       "      <th>0</th>\n",
       "      <td>0</td>\n",
       "      <td>184096565021911</td>\n",
       "      <td>1038670552897830</td>\n",
       "      <td>mostly true</td>\n",
       "      <td>https://external.xx.fbcdn.net/safe_image.php?d...</td>\n",
       "      <td>0.000000</td>\n",
       "      <td>PHOTOS: Protests in Charlotte   NC after fatal...</td>\n",
       "      <td>NaN</td>\n",
       "      <td>NaN</td>\n",
       "      <td>./images/184096565021911_1038670552897837.jpg</td>\n",
       "    </tr>\n",
       "    <tr>\n",
       "      <th>1</th>\n",
       "      <td>1</td>\n",
       "      <td>184096565021911</td>\n",
       "      <td>1038758292889060</td>\n",
       "      <td>mostly true</td>\n",
       "      <td>https://scontent.xx.fbcdn.net/v/t1.0-9/1436473...</td>\n",
       "      <td>0.612595</td>\n",
       "      <td>JUST IN: Ted Cruz announces in Facebook post h...</td>\n",
       "      <td>Ted Cruz\\nThis election is unlike any other in...</td>\n",
       "      <td>|Tms eIectIun Is unhke any umer In uur nauun‚Ä...</td>\n",
       "      <td>./images/184096565021911_1038758292889063.jpg</td>\n",
       "    </tr>\n",
       "    <tr>\n",
       "      <th>2</th>\n",
       "      <td>2</td>\n",
       "      <td>184096565021911</td>\n",
       "      <td>1041489252615960</td>\n",
       "      <td>mostly true</td>\n",
       "      <td>https://scontent.xx.fbcdn.net/v/t1.0-9/s720x72...</td>\n",
       "      <td>0.482248</td>\n",
       "      <td>There have already been fireworks between Hill...</td>\n",
       "      <td>\"DONALD   I know your live in your own reality...</td>\n",
       "      <td>m DONALD   I KNOW l‚ÄòYOU LIVE IN YOUR i ?OWN ...</td>\n",
       "      <td>./images/184096565021911_1041489252615967.jpg</td>\n",
       "    </tr>\n",
       "    <tr>\n",
       "      <th>3</th>\n",
       "      <td>3</td>\n",
       "      <td>184096565021911</td>\n",
       "      <td>1041496015948620</td>\n",
       "      <td>mostly true</td>\n",
       "      <td>https://scontent.xx.fbcdn.net/v/t1.0-9/s720x72...</td>\n",
       "      <td>0.877566</td>\n",
       "      <td>Debate fact-check: Donald J. Trump claims he d...</td>\n",
       "      <td>abc NEWS|PRESDENTIAL DEBATE YOUR VOICE YOUR VO...</td>\n",
       "      <td>@NEWSI PiiEÔ¨ÅiDEN'Ô¨Ç'mLDEATE 'VUMH' UDI‚ÄòJ‚...</td>\n",
       "      <td>./images/184096565021911_1041496015948624.jpg</td>\n",
       "    </tr>\n",
       "    <tr>\n",
       "      <th>4</th>\n",
       "      <td>4</td>\n",
       "      <td>184096565021911</td>\n",
       "      <td>1041504402614450</td>\n",
       "      <td>mostly true</td>\n",
       "      <td>https://scontent.xx.fbcdn.net/v/t1.0-9/s720x72...</td>\n",
       "      <td>0.858846</td>\n",
       "      <td>Debate fact-check: Donald J. Trump claims Hill...</td>\n",
       "      <td>abc NEWS|PRESDENTIAL DEBATE YOUR VOICE YOUR VO...</td>\n",
       "      <td>@NEWSI PiiEÔ¨ÅiDEN'Ô¨Ç'mLDEATE 'VUMH' UDI‚ÄòJ‚...</td>\n",
       "      <td>./images/184096565021911_1041504402614452.jpg</td>\n",
       "    </tr>\n",
       "  </tbody>\n",
       "</table>\n",
       "</div>"
      ],
      "text/plain": [
       "   Unnamed: 0       account_id           post_id       rating  \\\n",
       "0           0  184096565021911  1038670552897830  mostly true   \n",
       "1           1  184096565021911  1038758292889060  mostly true   \n",
       "2           2  184096565021911  1041489252615960  mostly true   \n",
       "3           3  184096565021911  1041496015948620  mostly true   \n",
       "4           4  184096565021911  1041504402614450  mostly true   \n",
       "\n",
       "                                           image url  cosine similarity  \\\n",
       "0  https://external.xx.fbcdn.net/safe_image.php?d...           0.000000   \n",
       "1  https://scontent.xx.fbcdn.net/v/t1.0-9/1436473...           0.612595   \n",
       "2  https://scontent.xx.fbcdn.net/v/t1.0-9/s720x72...           0.482248   \n",
       "3  https://scontent.xx.fbcdn.net/v/t1.0-9/s720x72...           0.877566   \n",
       "4  https://scontent.xx.fbcdn.net/v/t1.0-9/s720x72...           0.858846   \n",
       "\n",
       "                                             message  \\\n",
       "0  PHOTOS: Protests in Charlotte   NC after fatal...   \n",
       "1  JUST IN: Ted Cruz announces in Facebook post h...   \n",
       "2  There have already been fireworks between Hill...   \n",
       "3  Debate fact-check: Donald J. Trump claims he d...   \n",
       "4  Debate fact-check: Donald J. Trump claims Hill...   \n",
       "\n",
       "                                                text  \\\n",
       "0                                                NaN   \n",
       "1  Ted Cruz\\nThis election is unlike any other in...   \n",
       "2  \"DONALD   I know your live in your own reality...   \n",
       "3  abc NEWS|PRESDENTIAL DEBATE YOUR VOICE YOUR VO...   \n",
       "4  abc NEWS|PRESDENTIAL DEBATE YOUR VOICE YOUR VO...   \n",
       "\n",
       "                                            ocr text  \\\n",
       "0                                                NaN   \n",
       "1  |Tms eIectIun Is unhke any umer In uur nauun‚Ä...   \n",
       "2  m DONALD   I KNOW l‚ÄòYOU LIVE IN YOUR i ?OWN ...   \n",
       "3  @NEWSI PiiEÔ¨ÅiDEN'Ô¨Ç'mLDEATE 'VUMH' UDI‚ÄòJ‚...   \n",
       "4  @NEWSI PiiEÔ¨ÅiDEN'Ô¨Ç'mLDEATE 'VUMH' UDI‚ÄòJ‚...   \n",
       "\n",
       "                       downloaded image location  \n",
       "0  ./images/184096565021911_1038670552897837.jpg  \n",
       "1  ./images/184096565021911_1038758292889063.jpg  \n",
       "2  ./images/184096565021911_1041489252615967.jpg  \n",
       "3  ./images/184096565021911_1041496015948624.jpg  \n",
       "4  ./images/184096565021911_1041504402614452.jpg  "
      ]
     },
     "execution_count": 4,
     "metadata": {},
     "output_type": "execute_result"
    }
   ],
   "source": [
    "photo_posts = pd.read_csv('summary_similarity.csv')\n",
    "photo_posts.head()"
   ]
  },
  {
   "cell_type": "code",
   "execution_count": 25,
   "metadata": {},
   "outputs": [],
   "source": [
    "mostly_true_mask = photo_posts['rating'].str.contains('mostly true')\n",
    "mixture_of_true_and_false_mask = photo_posts['rating'].str.contains('mixture of true and false')\n",
    "mostly_false_mask = photo_posts['rating'].str.contains('mostly false')\n",
    "no_factual_content_mask = photo_posts['rating'].str.contains('no factual content')\n",
    "#mostly_true_mask"
   ]
  },
  {
   "cell_type": "code",
   "execution_count": 34,
   "metadata": {
    "collapsed": true
   },
   "outputs": [],
   "source": [
    "message_yes_mask = photo_posts['message'].notnull()\n",
    "#message_no_mask = photo_posts['message'].isnull()\n",
    "text_yes_mask = photo_posts['text'].notnull()\n",
    "#text_no_mask = photo_posts['text'].isnull()"
   ]
  },
  {
   "cell_type": "code",
   "execution_count": 46,
   "metadata": {},
   "outputs": [
    {
     "name": "stdout",
     "output_type": "stream",
     "text": [
      "(52, 10)\n"
     ]
    },
    {
     "data": {
      "text/plain": [
       "count    52.000000\n",
       "mean      0.528219\n",
       "std       0.219995\n",
       "min       0.155199\n",
       "25%       0.307673\n",
       "50%       0.530138\n",
       "75%       0.696910\n",
       "max       0.916016\n",
       "Name: cosine similarity, dtype: float64"
      ]
     },
     "execution_count": 46,
     "metadata": {},
     "output_type": "execute_result"
    }
   ],
   "source": [
    "true_with_message_text = photo_posts[mostly_true_mask & message_yes_mask & text_yes_mask]\n",
    "true_with_message_text['cosine similarity'].describe()"
   ]
  },
  {
   "cell_type": "code",
   "execution_count": 47,
   "metadata": {},
   "outputs": [
    {
     "data": {
      "text/plain": [
       "count    5.0\n",
       "mean     0.0\n",
       "std      0.0\n",
       "min      0.0\n",
       "25%      0.0\n",
       "50%      0.0\n",
       "75%      0.0\n",
       "max      0.0\n",
       "Name: cosine similarity, dtype: float64"
      ]
     },
     "execution_count": 47,
     "metadata": {},
     "output_type": "execute_result"
    }
   ],
   "source": [
    "true_with_message_no_text = photo_posts[mostly_true_mask & message_yes_mask & ~text_yes_mask]\n",
    "true_with_message_no_text['cosine similarity'].describe()"
   ]
  },
  {
   "cell_type": "code",
   "execution_count": 48,
   "metadata": {},
   "outputs": [
    {
     "data": {
      "text/plain": [
       "count    6.0\n",
       "mean     0.0\n",
       "std      0.0\n",
       "min      0.0\n",
       "25%      0.0\n",
       "50%      0.0\n",
       "75%      0.0\n",
       "max      0.0\n",
       "Name: cosine similarity, dtype: float64"
      ]
     },
     "execution_count": 48,
     "metadata": {},
     "output_type": "execute_result"
    }
   ],
   "source": [
    "true_with_no_message_text = photo_posts[mostly_true_mask & ~message_yes_mask & text_yes_mask]\n",
    "true_with_no_message_text['cosine similarity'].describe()"
   ]
  },
  {
   "cell_type": "code",
   "execution_count": 49,
   "metadata": {},
   "outputs": [
    {
     "data": {
      "text/html": [
       "<div>\n",
       "<style>\n",
       "    .dataframe thead tr:only-child th {\n",
       "        text-align: right;\n",
       "    }\n",
       "\n",
       "    .dataframe thead th {\n",
       "        text-align: left;\n",
       "    }\n",
       "\n",
       "    .dataframe tbody tr th {\n",
       "        vertical-align: top;\n",
       "    }\n",
       "</style>\n",
       "<table border=\"1\" class=\"dataframe\">\n",
       "  <thead>\n",
       "    <tr style=\"text-align: right;\">\n",
       "      <th></th>\n",
       "      <th>Unnamed: 0</th>\n",
       "      <th>account_id</th>\n",
       "      <th>post_id</th>\n",
       "      <th>cosine similarity</th>\n",
       "    </tr>\n",
       "  </thead>\n",
       "  <tbody>\n",
       "    <tr>\n",
       "      <th>count</th>\n",
       "      <td>0.0</td>\n",
       "      <td>0.0</td>\n",
       "      <td>0.0</td>\n",
       "      <td>0.0</td>\n",
       "    </tr>\n",
       "    <tr>\n",
       "      <th>mean</th>\n",
       "      <td>NaN</td>\n",
       "      <td>NaN</td>\n",
       "      <td>NaN</td>\n",
       "      <td>NaN</td>\n",
       "    </tr>\n",
       "    <tr>\n",
       "      <th>std</th>\n",
       "      <td>NaN</td>\n",
       "      <td>NaN</td>\n",
       "      <td>NaN</td>\n",
       "      <td>NaN</td>\n",
       "    </tr>\n",
       "    <tr>\n",
       "      <th>min</th>\n",
       "      <td>NaN</td>\n",
       "      <td>NaN</td>\n",
       "      <td>NaN</td>\n",
       "      <td>NaN</td>\n",
       "    </tr>\n",
       "    <tr>\n",
       "      <th>25%</th>\n",
       "      <td>NaN</td>\n",
       "      <td>NaN</td>\n",
       "      <td>NaN</td>\n",
       "      <td>NaN</td>\n",
       "    </tr>\n",
       "    <tr>\n",
       "      <th>50%</th>\n",
       "      <td>NaN</td>\n",
       "      <td>NaN</td>\n",
       "      <td>NaN</td>\n",
       "      <td>NaN</td>\n",
       "    </tr>\n",
       "    <tr>\n",
       "      <th>75%</th>\n",
       "      <td>NaN</td>\n",
       "      <td>NaN</td>\n",
       "      <td>NaN</td>\n",
       "      <td>NaN</td>\n",
       "    </tr>\n",
       "    <tr>\n",
       "      <th>max</th>\n",
       "      <td>NaN</td>\n",
       "      <td>NaN</td>\n",
       "      <td>NaN</td>\n",
       "      <td>NaN</td>\n",
       "    </tr>\n",
       "  </tbody>\n",
       "</table>\n",
       "</div>"
      ],
      "text/plain": [
       "       Unnamed: 0  account_id  post_id  cosine similarity\n",
       "count         0.0         0.0      0.0                0.0\n",
       "mean          NaN         NaN      NaN                NaN\n",
       "std           NaN         NaN      NaN                NaN\n",
       "min           NaN         NaN      NaN                NaN\n",
       "25%           NaN         NaN      NaN                NaN\n",
       "50%           NaN         NaN      NaN                NaN\n",
       "75%           NaN         NaN      NaN                NaN\n",
       "max           NaN         NaN      NaN                NaN"
      ]
     },
     "execution_count": 49,
     "metadata": {},
     "output_type": "execute_result"
    }
   ],
   "source": [
    "true_with_no_message_no_text = photo_posts[mostly_true_mask & ~message_yes_mask & ~text_yes_mask]\n",
    "true_with_no_message_no_text['cosine similarity'].describe()"
   ]
  },
  {
   "cell_type": "code",
   "execution_count": 54,
   "metadata": {},
   "outputs": [
    {
     "data": {
      "text/plain": [
       "count    5.000000\n",
       "mean     0.204728\n",
       "std      0.229526\n",
       "min      0.000000\n",
       "25%      0.000000\n",
       "50%      0.184658\n",
       "75%      0.288622\n",
       "max      0.550359\n",
       "Name: cosine similarity, dtype: float64"
      ]
     },
     "execution_count": 54,
     "metadata": {},
     "output_type": "execute_result"
    }
   ],
   "source": [
    "mixture_with_message_text = photo_posts[mixture_of_true_and_false_mask & message_yes_mask & text_yes_mask]\n",
    "mixture_with_message_text['cosine similarity'].describe()"
   ]
  },
  {
   "cell_type": "code",
   "execution_count": 55,
   "metadata": {},
   "outputs": [
    {
     "data": {
      "text/plain": [
       "count    0.0\n",
       "mean     NaN\n",
       "std      NaN\n",
       "min      NaN\n",
       "25%      NaN\n",
       "50%      NaN\n",
       "75%      NaN\n",
       "max      NaN\n",
       "Name: cosine similarity, dtype: float64"
      ]
     },
     "execution_count": 55,
     "metadata": {},
     "output_type": "execute_result"
    }
   ],
   "source": [
    "mixture_with_message_no_text = photo_posts[mixture_of_true_and_false_mask & message_yes_mask & ~text_yes_mask]\n",
    "mixture_with_message_no_text['cosine similarity'].describe()"
   ]
  },
  {
   "cell_type": "code",
   "execution_count": 57,
   "metadata": {},
   "outputs": [
    {
     "data": {
      "text/plain": [
       "count    1.0\n",
       "mean     0.0\n",
       "std      NaN\n",
       "min      0.0\n",
       "25%      0.0\n",
       "50%      0.0\n",
       "75%      0.0\n",
       "max      0.0\n",
       "Name: cosine similarity, dtype: float64"
      ]
     },
     "execution_count": 57,
     "metadata": {},
     "output_type": "execute_result"
    }
   ],
   "source": [
    "mixture_with_no_message_text = photo_posts[mixture_of_true_and_false_mask & ~message_yes_mask & text_yes_mask]\n",
    "mixture_with_no_message_text['cosine similarity'].describe()"
   ]
  },
  {
   "cell_type": "code",
   "execution_count": 58,
   "metadata": {},
   "outputs": [
    {
     "data": {
      "text/plain": [
       "count    0.0\n",
       "mean     NaN\n",
       "std      NaN\n",
       "min      NaN\n",
       "25%      NaN\n",
       "50%      NaN\n",
       "75%      NaN\n",
       "max      NaN\n",
       "Name: cosine similarity, dtype: float64"
      ]
     },
     "execution_count": 58,
     "metadata": {},
     "output_type": "execute_result"
    }
   ],
   "source": [
    "mixture_with_no_message_no_text = photo_posts[mixture_of_true_and_false_mask & ~message_yes_mask & ~text_yes_mask]\n",
    "mixture_with_no_message_no_text['cosine similarity'].describe()"
   ]
  },
  {
   "cell_type": "code",
   "execution_count": 61,
   "metadata": {},
   "outputs": [
    {
     "data": {
      "text/plain": [
       "count    7.000000\n",
       "mean     0.193529\n",
       "std      0.211430\n",
       "min      0.000000\n",
       "25%      0.000000\n",
       "50%      0.212878\n",
       "75%      0.293005\n",
       "max      0.555816\n",
       "Name: cosine similarity, dtype: float64"
      ]
     },
     "execution_count": 61,
     "metadata": {},
     "output_type": "execute_result"
    }
   ],
   "source": [
    "false_with_message_text = photo_posts[mostly_false_mask & message_yes_mask & text_yes_mask]\n",
    "false_with_message_text['cosine similarity'].describe()"
   ]
  },
  {
   "cell_type": "code",
   "execution_count": 62,
   "metadata": {},
   "outputs": [
    {
     "data": {
      "text/plain": [
       "count    0.0\n",
       "mean     NaN\n",
       "std      NaN\n",
       "min      NaN\n",
       "25%      NaN\n",
       "50%      NaN\n",
       "75%      NaN\n",
       "max      NaN\n",
       "Name: cosine similarity, dtype: float64"
      ]
     },
     "execution_count": 62,
     "metadata": {},
     "output_type": "execute_result"
    }
   ],
   "source": [
    "false_with_message_no_text = photo_posts[mostly_false_mask & message_yes_mask & ~text_yes_mask]\n",
    "false_with_message_no_text['cosine similarity'].describe()"
   ]
  },
  {
   "cell_type": "code",
   "execution_count": 63,
   "metadata": {},
   "outputs": [
    {
     "data": {
      "text/plain": [
       "count    2.0\n",
       "mean     0.0\n",
       "std      0.0\n",
       "min      0.0\n",
       "25%      0.0\n",
       "50%      0.0\n",
       "75%      0.0\n",
       "max      0.0\n",
       "Name: cosine similarity, dtype: float64"
      ]
     },
     "execution_count": 63,
     "metadata": {},
     "output_type": "execute_result"
    }
   ],
   "source": [
    "false_with_no_message_text = photo_posts[mostly_false_mask & ~message_yes_mask & text_yes_mask]\n",
    "false_with_no_message_text['cosine similarity'].describe()"
   ]
  },
  {
   "cell_type": "code",
   "execution_count": 64,
   "metadata": {},
   "outputs": [
    {
     "data": {
      "text/plain": [
       "count    0.0\n",
       "mean     NaN\n",
       "std      NaN\n",
       "min      NaN\n",
       "25%      NaN\n",
       "50%      NaN\n",
       "75%      NaN\n",
       "max      NaN\n",
       "Name: cosine similarity, dtype: float64"
      ]
     },
     "execution_count": 64,
     "metadata": {},
     "output_type": "execute_result"
    }
   ],
   "source": [
    "false_with_no_message_no_text = photo_posts[mostly_false_mask & ~message_yes_mask & ~text_yes_mask]\n",
    "false_with_no_message_no_text['cosine similarity'].describe()"
   ]
  },
  {
   "cell_type": "code",
   "execution_count": 65,
   "metadata": {},
   "outputs": [
    {
     "data": {
      "text/plain": [
       "count    100.000000\n",
       "mean       0.327061\n",
       "std        0.245249\n",
       "min        0.000000\n",
       "25%        0.130820\n",
       "50%        0.277570\n",
       "75%        0.568119\n",
       "max        0.782292\n",
       "Name: cosine similarity, dtype: float64"
      ]
     },
     "execution_count": 65,
     "metadata": {},
     "output_type": "execute_result"
    }
   ],
   "source": [
    "no_factual_with_message_text = photo_posts[no_factual_content_mask & message_yes_mask & text_yes_mask]\n",
    "no_factual_with_message_text['cosine similarity'].describe()"
   ]
  },
  {
   "cell_type": "code",
   "execution_count": 66,
   "metadata": {},
   "outputs": [
    {
     "data": {
      "text/plain": [
       "count    0.0\n",
       "mean     NaN\n",
       "std      NaN\n",
       "min      NaN\n",
       "25%      NaN\n",
       "50%      NaN\n",
       "75%      NaN\n",
       "max      NaN\n",
       "Name: cosine similarity, dtype: float64"
      ]
     },
     "execution_count": 66,
     "metadata": {},
     "output_type": "execute_result"
    }
   ],
   "source": [
    "no_factual_with_message_no_text = photo_posts[no_factual_content_mask & message_yes_mask & ~text_yes_mask]\n",
    "no_factual_with_message_no_text['cosine similarity'].describe()"
   ]
  },
  {
   "cell_type": "code",
   "execution_count": 67,
   "metadata": {},
   "outputs": [
    {
     "data": {
      "text/plain": [
       "count    28.0\n",
       "mean      0.0\n",
       "std       0.0\n",
       "min       0.0\n",
       "25%       0.0\n",
       "50%       0.0\n",
       "75%       0.0\n",
       "max       0.0\n",
       "Name: cosine similarity, dtype: float64"
      ]
     },
     "execution_count": 67,
     "metadata": {},
     "output_type": "execute_result"
    }
   ],
   "source": [
    "no_factual_with_no_message_text = photo_posts[no_factual_content_mask & ~message_yes_mask & text_yes_mask]\n",
    "no_factual_with_no_message_text['cosine similarity'].describe()"
   ]
  },
  {
   "cell_type": "code",
   "execution_count": 68,
   "metadata": {},
   "outputs": [
    {
     "data": {
      "text/plain": [
       "count    0.0\n",
       "mean     NaN\n",
       "std      NaN\n",
       "min      NaN\n",
       "25%      NaN\n",
       "50%      NaN\n",
       "75%      NaN\n",
       "max      NaN\n",
       "Name: cosine similarity, dtype: float64"
      ]
     },
     "execution_count": 68,
     "metadata": {},
     "output_type": "execute_result"
    }
   ],
   "source": [
    "no_factual_with_no_message_no_text = photo_posts[no_factual_content_mask & ~message_yes_mask & ~text_yes_mask]\n",
    "no_factual_with_no_message_no_text['cosine similarity'].describe()"
   ]
  },
  {
   "cell_type": "code",
   "execution_count": null,
   "metadata": {
    "collapsed": true
   },
   "outputs": [],
   "source": []
  }
 ],
 "metadata": {
  "kernelspec": {
   "display_name": "Python [conda env:opencv]",
   "language": "python",
   "name": "conda-env-opencv-py"
  },
  "language_info": {
   "codemirror_mode": {
    "name": "ipython",
    "version": 3
   },
   "file_extension": ".py",
   "mimetype": "text/x-python",
   "name": "python",
   "nbconvert_exporter": "python",
   "pygments_lexer": "ipython3",
   "version": "3.6.1"
  }
 },
 "nbformat": 4,
 "nbformat_minor": 2
}
