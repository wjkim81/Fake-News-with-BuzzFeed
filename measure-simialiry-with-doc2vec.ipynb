{
 "cells": [
  {
   "cell_type": "code",
   "execution_count": 1,
   "metadata": {
    "collapsed": true,
    "nbpresent": {
     "id": "499146b3-dc89-44c2-a0a0-718711b40087"
    }
   },
   "outputs": [],
   "source": [
    "import pandas as pd\n",
    "import numpy as np\n",
    "\n",
    "import nltk\n",
    "#from bs4 import BeautifulSoup\n",
    "\n",
    "import gensim\n",
    "from gensim import utils\n",
    "import sys\n",
    "from sklearn.datasets import fetch_20newsgroups\n",
    "from nltk import word_tokenize\n",
    "from nltk import download\n",
    "from nltk.corpus import stopwords\n",
    "from sklearn.decomposition import PCA\n",
    "from sklearn.metrics.pairwise import cosine_similarity\n",
    "\n",
    "%matplotlib inline\n",
    "import matplotlib.pyplot as plt\n",
    "\n",
    "\n",
    "#import os\n",
    "#import urllib\n",
    "#import json\n",
    "\n",
    "#import datetime\n",
    "#import csv\n",
    "#import time\n",
    "\n",
    "#from io import BytesIO"
   ]
  },
  {
   "cell_type": "code",
   "execution_count": 46,
   "metadata": {
    "collapsed": true,
    "nbpresent": {
     "id": "d71273ab-15ce-40c8-be4d-f6d90616cf03"
    }
   },
   "outputs": [],
   "source": [
    "from gensim.models.keyedvectors import KeyedVectors\n",
    "\n",
    "model = KeyedVectors.load_word2vec_format('./words/GoogleNews-vectors-negative300.bin.gz', binary=True)\n",
    "#model.save_word2vec_format('./words/GoogleNews-vectors-negative300.txt', binary=False)"
   ]
  },
  {
   "cell_type": "code",
   "execution_count": 47,
   "metadata": {
    "nbpresent": {
     "id": "92d36a93-74ec-40f1-a576-4d52c7380c4b"
    }
   },
   "outputs": [
    {
     "name": "stdout",
     "output_type": "stream",
     "text": [
      "[nltk_data] Downloading package punkt to /Users/wjkim/nltk_data...\n",
      "[nltk_data]   Package punkt is already up-to-date!\n",
      "[nltk_data] Downloading package stopwords to /Users/wjkim/nltk_data...\n",
      "[nltk_data]   Package stopwords is already up-to-date!\n"
     ]
    }
   ],
   "source": [
    "download('punkt') #tokenizer, run once\n",
    "download('stopwords') #stopwords dictionary, run once\n",
    "stop_words = stopwords.words('english')"
   ]
  },
  {
   "cell_type": "code",
   "execution_count": 111,
   "metadata": {},
   "outputs": [],
   "source": [
    "# Excel on Mac saves csv file with delimiter ','\n",
    "# Because there are many comma in texts, you should change them into other characters like space ' '\n",
    "# I changed comma ',' in text to space' '\n",
    "photo_posts = pd.read_csv('posts_with_text2.csv')"
   ]
  },
  {
   "cell_type": "code",
   "execution_count": 112,
   "metadata": {},
   "outputs": [
    {
     "data": {
      "text/plain": [
       "True"
      ]
     },
     "execution_count": 112,
     "metadata": {},
     "output_type": "execute_result"
    }
   ],
   "source": [
    "photo_posts['message'].isnull().any()"
   ]
  },
  {
   "cell_type": "code",
   "execution_count": 113,
   "metadata": {
    "nbpresent": {
     "id": "6ac05ab9-b552-489b-8088-f2735197acb8"
    },
    "scrolled": true
   },
   "outputs": [
    {
     "data": {
      "text/plain": [
       "False"
      ]
     },
     "execution_count": 113,
     "metadata": {},
     "output_type": "execute_result"
    }
   ],
   "source": [
    "null_mask = photo_posts['message'].isnull()\n",
    "\n",
    "idx = np.where(null_mask)\n",
    "idx\n",
    "#photo_posts[null_mask]['message']\n",
    "for i in idx:\n",
    "    photo_posts.loc[i, 'message'] = ''\n",
    "\n",
    "\n",
    "\n",
    "#In [174]: mask = x[0]>0\n",
    "#In [175]: mask\n",
    "#Out[175]: array([False,  True, False,  True, False], dtype=bool)\n",
    "##In [176]: idx = np.where(mask)[0]\n",
    "#In [177]: idx\n",
    "#Out[177]: array([1, 3], dtype=int32)\n",
    "#In [178]: x[0, idx[1]]\n",
    "#Out[178]: 6.0\n",
    "\n",
    "photo_posts['message'].isnull().any()"
   ]
  },
  {
   "cell_type": "code",
   "execution_count": 114,
   "metadata": {},
   "outputs": [
    {
     "data": {
      "text/plain": [
       "True"
      ]
     },
     "execution_count": 114,
     "metadata": {},
     "output_type": "execute_result"
    }
   ],
   "source": [
    "photo_posts['text'].isnull().any()"
   ]
  },
  {
   "cell_type": "code",
   "execution_count": 115,
   "metadata": {},
   "outputs": [
    {
     "data": {
      "text/plain": [
       "False"
      ]
     },
     "execution_count": 115,
     "metadata": {},
     "output_type": "execute_result"
    }
   ],
   "source": [
    "null_mask = photo_posts['text'].isnull()\n",
    "\n",
    "idx = np.where(null_mask)\n",
    "idx\n",
    "#photo_posts[null_mask]['message']\n",
    "for i in idx:\n",
    "    photo_posts.loc[i, 'text'] = ''\n",
    "\n",
    "\n",
    "\n",
    "#In [174]: mask = x[0]>0\n",
    "#In [175]: mask\n",
    "#Out[175]: array([False,  True, False,  True, False], dtype=bool)\n",
    "##In [176]: idx = np.where(mask)[0]\n",
    "#In [177]: idx\n",
    "#Out[177]: array([1, 3], dtype=int32)\n",
    "#In [178]: x[0, idx[1]]\n",
    "#Out[178]: 6.0\n",
    "\n",
    "photo_posts['text'].isnull().any()"
   ]
  },
  {
   "cell_type": "code",
   "execution_count": 116,
   "metadata": {},
   "outputs": [],
   "source": [
    "messages = photo_posts['message'].tolist()\n",
    "texts = photo_posts['text'].tolist()\n",
    "y = photo_posts['label'].tolist()"
   ]
  },
  {
   "cell_type": "code",
   "execution_count": 117,
   "metadata": {
    "collapsed": true,
    "nbpresent": {
     "id": "379575fc-2647-48f8-9a0d-93fabf0fbbc3"
    }
   },
   "outputs": [],
   "source": [
    "def preprocess(text):\n",
    "    text = text.lower()\n",
    "    doc = word_tokenize(text)\n",
    "    doc = [word for word in doc if word not in stop_words]\n",
    "    doc = [word for word in doc if word.isalpha()] #restricts string to alphabetic characters only\n",
    "    return doc"
   ]
  },
  {
   "cell_type": "code",
   "execution_count": 121,
   "metadata": {
    "nbpresent": {
     "id": "9bf733cd-155f-4507-aca2-41514fd2c3d1"
    },
    "scrolled": true
   },
   "outputs": [],
   "source": [
    "#messages"
   ]
  },
  {
   "cell_type": "code",
   "execution_count": 122,
   "metadata": {
    "nbpresent": {
     "id": "d2b01d27-9df1-4898-a324-d5ec9310f37e"
    },
    "scrolled": true
   },
   "outputs": [
    {
     "data": {
      "text/plain": [
       "206"
      ]
     },
     "execution_count": 122,
     "metadata": {},
     "output_type": "execute_result"
    }
   ],
   "source": [
    "len(messages)"
   ]
  },
  {
   "cell_type": "code",
   "execution_count": 123,
   "metadata": {
    "collapsed": true,
    "nbpresent": {
     "id": "eff76b9e-8ac7-4419-8a34-1b8924b11326"
    }
   },
   "outputs": [],
   "source": [
    "t_corpus = [preprocess(str(text)) for text in texts]"
   ]
  },
  {
   "cell_type": "code",
   "execution_count": 124,
   "metadata": {
    "nbpresent": {
     "id": "b981c8f5-48a2-46f6-ad46-71290b75f8cb"
    }
   },
   "outputs": [
    {
     "data": {
      "text/plain": [
       "206"
      ]
     },
     "execution_count": 124,
     "metadata": {},
     "output_type": "execute_result"
    }
   ],
   "source": [
    "m_corpus = [preprocess(str(message)) for message in messages]\n",
    "len(m_corpus)"
   ]
  },
  {
   "cell_type": "code",
   "execution_count": 125,
   "metadata": {
    "collapsed": true,
    "nbpresent": {
     "id": "30361d2b-5031-476b-9e55-ba897f9e72b3"
    }
   },
   "outputs": [],
   "source": [
    "def filter_docs(corpus, texts, labels, condition_on_doc):\n",
    "    \"\"\"\n",
    "    Filter corpus, texts and labels given the function condition_on_doc which takes\n",
    "    a doc.\n",
    "    The document doc is kept if condition_on_doc(doc) is true.\n",
    "    \"\"\"\n",
    "    number_of_docs = len(corpus)\n",
    "\n",
    "    #if texts is not None:\n",
    "    #    texts = [text for (text, doc) in zip(texts, corpus)\n",
    "    #             if condition_on_doc(doc)]\n",
    "\n",
    "    #labels = [i for (i, doc) in zip(labels, corpus) if condition_on_doc(doc)]\n",
    "    #corpus = [doc for doc in corpus if condition_on_doc(doc)]\n",
    "    \n",
    "    if texts is not None:\n",
    "        for i in range(number_of_docs):\n",
    "            doc = corpus[i]\n",
    "            if condition_on_doc(doc) is False or doc == 'nan':\n",
    "                texts[i] = ''\n",
    "                corpus[i] = []\n",
    "                \n",
    "\n",
    "    print(\"{} docs removed\".format(number_of_docs - len(corpus)))\n",
    "\n",
    "    return (corpus, texts, labels)"
   ]
  },
  {
   "cell_type": "code",
   "execution_count": 126,
   "metadata": {
    "nbpresent": {
     "id": "ee264b0d-3efd-49ee-9454-d421b4bbd723"
    },
    "scrolled": false
   },
   "outputs": [],
   "source": [
    "#t_corpus, texts, y = filter_docs(t_corpus, texts, y, lambda doc: (len(doc) != 0))"
   ]
  },
  {
   "cell_type": "code",
   "execution_count": 127,
   "metadata": {
    "collapsed": true,
    "nbpresent": {
     "id": "c3e488a4-e583-4269-8a0f-610e4870d3ec"
    }
   },
   "outputs": [],
   "source": [
    "#m_corpus, messages, y = filter_docs(m_corpus, messages, y, lambda doc: (len(doc) != 0))"
   ]
  },
  {
   "cell_type": "code",
   "execution_count": 128,
   "metadata": {
    "collapsed": true,
    "nbpresent": {
     "id": "40a9d15b-0457-4fc4-acb1-8094b7153a1f"
    }
   },
   "outputs": [],
   "source": [
    "# Remove OOV words and documents with no words in model dictionary\n",
    "def document_vector(word2vec_model, doc):\n",
    "    # remove out-of-vocabulary words\n",
    "    doc = [word for word in doc if word in word2vec_model.vocab]\n",
    "    return np.mean(word2vec_model[doc], axis=0)"
   ]
  },
  {
   "cell_type": "code",
   "execution_count": 129,
   "metadata": {
    "collapsed": true,
    "nbpresent": {
     "id": "a7317639-483a-48cb-ab61-efbf4a9d5171"
    }
   },
   "outputs": [],
   "source": [
    "def has_vector_representation(word2vec_model, doc):\n",
    "    \"\"\"check if at least one word of the document is in the\n",
    "    word2vec dictionary\"\"\"\n",
    "    return not all(word not in word2vec_model.vocab for word in doc)"
   ]
  },
  {
   "cell_type": "code",
   "execution_count": 130,
   "metadata": {
    "nbpresent": {
     "id": "db3fec4e-03ed-43ed-afa4-6bac21f6ffed"
    },
    "scrolled": true
   },
   "outputs": [
    {
     "name": "stdout",
     "output_type": "stream",
     "text": [
      "0 docs removed\n"
     ]
    }
   ],
   "source": [
    "t_corpus, texts, y = filter_docs(t_corpus, texts, y, lambda doc: has_vector_representation(model, doc))\n",
    "#t_corpus"
   ]
  },
  {
   "cell_type": "code",
   "execution_count": 131,
   "metadata": {
    "nbpresent": {
     "id": "79835d19-a68a-4741-a9b5-b348ceacaf22"
    }
   },
   "outputs": [
    {
     "name": "stdout",
     "output_type": "stream",
     "text": [
      "0 docs removed\n"
     ]
    }
   ],
   "source": [
    "m_corpus, messages, y = filter_docs(m_corpus, messages, y, lambda doc: has_vector_representation(model, doc))\n",
    "#m_corpus"
   ]
  },
  {
   "cell_type": "code",
   "execution_count": 133,
   "metadata": {
    "nbpresent": {
     "id": "438a93c5-df86-4c93-9761-23b1dfb5e419"
    }
   },
   "outputs": [],
   "source": [
    "x1 =[]\n",
    "for doc in t_corpus: #look up each doc in model\n",
    "    #print(\"i: \", i)\n",
    "    #i = i + 1\n",
    "    if len(doc) == 0:\n",
    "        x1.append(np.zeros((300,)))\n",
    "    else:\n",
    "        x1.append(document_vector(model, doc))"
   ]
  },
  {
   "cell_type": "code",
   "execution_count": 134,
   "metadata": {},
   "outputs": [
    {
     "data": {
      "text/plain": [
       "['months', 'republicanparty', 'need', 'phones', 'back']"
      ]
     },
     "execution_count": 134,
     "metadata": {},
     "output_type": "execute_result"
    }
   ],
   "source": [
    "t_corpus[25]"
   ]
  },
  {
   "cell_type": "code",
   "execution_count": 135,
   "metadata": {},
   "outputs": [
    {
     "data": {
      "text/plain": [
       "5"
      ]
     },
     "execution_count": 135,
     "metadata": {},
     "output_type": "execute_result"
    }
   ],
   "source": [
    "len(t_corpus[25])"
   ]
  },
  {
   "cell_type": "code",
   "execution_count": 136,
   "metadata": {
    "nbpresent": {
     "id": "e4f8ee76-a3c4-4ea4-af51-72351275c1e7"
    }
   },
   "outputs": [
    {
     "data": {
      "text/plain": [
       "206"
      ]
     },
     "execution_count": 136,
     "metadata": {},
     "output_type": "execute_result"
    }
   ],
   "source": [
    "len(m_corpus)"
   ]
  },
  {
   "cell_type": "code",
   "execution_count": 137,
   "metadata": {
    "nbpresent": {
     "id": "740fb1e6-bc5b-4ac2-81ad-d7a2f5d2fe23"
    }
   },
   "outputs": [
    {
     "data": {
      "text/plain": [
       "[]"
      ]
     },
     "execution_count": 137,
     "metadata": {},
     "output_type": "execute_result"
    }
   ],
   "source": [
    "m_corpus[25]"
   ]
  },
  {
   "cell_type": "code",
   "execution_count": 138,
   "metadata": {},
   "outputs": [
    {
     "data": {
      "text/plain": [
       "0"
      ]
     },
     "execution_count": 138,
     "metadata": {},
     "output_type": "execute_result"
    }
   ],
   "source": [
    "len(m_corpus[25])"
   ]
  },
  {
   "cell_type": "code",
   "execution_count": 139,
   "metadata": {},
   "outputs": [
    {
     "data": {
      "text/plain": [
       "(300,)"
      ]
     },
     "execution_count": 139,
     "metadata": {},
     "output_type": "execute_result"
    }
   ],
   "source": [
    "document_vector(model, t_corpus[25]).shape"
   ]
  },
  {
   "cell_type": "code",
   "execution_count": 140,
   "metadata": {
    "collapsed": true
   },
   "outputs": [],
   "source": [
    "#document_vector(model, m_corpus[25]).shape"
   ]
  },
  {
   "cell_type": "code",
   "execution_count": 141,
   "metadata": {
    "collapsed": true,
    "nbpresent": {
     "id": "df49fe9a-5eb2-4809-8e2b-4cc892872a9b"
    }
   },
   "outputs": [],
   "source": [
    "x2 =[]\n",
    "i = 0\n",
    "for doc in m_corpus: #look up each doc in model\n",
    "    #print(\"i: \", i)\n",
    "    #i = i + 1\n",
    "    if len(doc) == 0:\n",
    "        x2.append(np.zeros((300,)))\n",
    "    else:\n",
    "        x2.append(document_vector(model, doc))"
   ]
  },
  {
   "cell_type": "code",
   "execution_count": 142,
   "metadata": {},
   "outputs": [
    {
     "data": {
      "text/plain": [
       "array([[ 0.]])"
      ]
     },
     "execution_count": 142,
     "metadata": {},
     "output_type": "execute_result"
    }
   ],
   "source": [
    "cosine_similarity(x1[0].reshape(1,300), x2[0].reshape(1,300))"
   ]
  },
  {
   "cell_type": "code",
   "execution_count": 143,
   "metadata": {
    "nbpresent": {
     "id": "f1fc5e9c-c895-4c97-ba01-9c57bb7564c5"
    }
   },
   "outputs": [
    {
     "data": {
      "text/plain": [
       "[]"
      ]
     },
     "execution_count": 143,
     "metadata": {},
     "output_type": "execute_result"
    }
   ],
   "source": [
    "m_corpus[80]"
   ]
  },
  {
   "cell_type": "code",
   "execution_count": 144,
   "metadata": {},
   "outputs": [
    {
     "data": {
      "text/plain": [
       "['confuse', 'dying', 'oil', 'fighting', 'freedom']"
      ]
     },
     "execution_count": 144,
     "metadata": {},
     "output_type": "execute_result"
    }
   ],
   "source": [
    "t_corpus[80]"
   ]
  },
  {
   "cell_type": "code",
   "execution_count": 145,
   "metadata": {
    "scrolled": false
   },
   "outputs": [
    {
     "name": "stdout",
     "output_type": "stream",
     "text": [
      "0.0\n",
      "0.612595\n",
      "0.482248\n",
      "0.877566\n",
      "0.858846\n",
      "0.840662\n",
      "0.797358\n",
      "0.829173\n",
      "0.906689\n",
      "0.916016\n",
      "0.650828\n",
      "0.875855\n",
      "0.482248\n",
      "0.728008\n",
      "0.669229\n",
      "0.0\n",
      "0.0\n",
      "0.71568\n",
      "0.0\n",
      "0.782292\n",
      "0.55103\n",
      "0.55103\n",
      "0.524588\n",
      "0.0\n",
      "0.672423\n",
      "0.0\n",
      "0.0\n",
      "0.169928\n",
      "0.0\n",
      "0.211118\n",
      "0.0\n",
      "0.0\n",
      "0.0\n",
      "0.209111\n",
      "0.0\n",
      "0.0\n",
      "0.0\n",
      "0.11615\n",
      "0.179205\n",
      "0.172701\n",
      "0.209539\n",
      "0.0\n",
      "0.0\n",
      "0.0\n",
      "0.0\n",
      "0.196493\n",
      "0.203213\n",
      "0.225163\n",
      "0.129964\n",
      "0.130402\n",
      "0.0\n",
      "0.0\n",
      "0.0\n",
      "0.162752\n",
      "0.184658\n",
      "0.17189\n",
      "0.187886\n",
      "0.166878\n",
      "0.207407\n",
      "0.0\n",
      "0.0\n",
      "0.0\n",
      "0.0\n",
      "0.0\n",
      "0.116773\n",
      "0.0\n",
      "0.0\n",
      "0.0\n",
      "0.130959\n",
      "0.168639\n",
      "0.204695\n",
      "0.484077\n",
      "0.512756\n",
      "0.655675\n",
      "0.580829\n",
      "0.550359\n",
      "0.530698\n",
      "0.616639\n",
      "0.392135\n",
      "0.529577\n",
      "0.0\n",
      "0.721297\n",
      "0.680437\n",
      "0.521895\n",
      "0.513004\n",
      "0.695907\n",
      "0.715502\n",
      "0.69992\n",
      "0.0\n",
      "0.0\n",
      "0.321836\n",
      "0.0\n",
      "0.374382\n",
      "0.0991875\n",
      "0.177421\n",
      "0.376653\n",
      "0.555816\n",
      "0.725141\n",
      "0.624006\n",
      "0.722035\n",
      "0.59488\n",
      "0.126407\n",
      "0.563882\n",
      "0.567024\n",
      "0.315656\n",
      "0.153201\n",
      "0.521011\n",
      "0.331885\n",
      "0.549289\n",
      "0.521072\n",
      "0.5157\n",
      "0.0\n",
      "0.288622\n",
      "0.177582\n",
      "0.562688\n",
      "0.248976\n",
      "0.196631\n",
      "0.524225\n",
      "0.573337\n",
      "0.637336\n",
      "0.567582\n",
      "0.347329\n",
      "0.0\n",
      "0.569371\n",
      "0.571626\n",
      "0.740561\n",
      "0.715641\n",
      "0.656002\n",
      "0.611722\n",
      "0.616726\n",
      "0.522578\n",
      "0.693321\n",
      "0.636587\n",
      "0.598529\n",
      "0.617094\n",
      "0.592681\n",
      "0.60701\n",
      "0.38273\n",
      "0.622971\n",
      "0.606105\n",
      "0.586035\n",
      "0.508749\n",
      "0.461918\n",
      "0.61472\n",
      "0.229754\n",
      "0.585561\n",
      "0.479734\n",
      "0.0\n",
      "0.252983\n",
      "0.0\n",
      "0.0\n",
      "0.315067\n",
      "0.0\n",
      "0.549657\n",
      "0.165805\n",
      "0.0\n",
      "0.0\n",
      "0.0\n",
      "0.0\n",
      "0.0\n",
      "0.0\n",
      "0.441538\n",
      "0.0\n",
      "0.0\n",
      "0.0\n",
      "0.285221\n",
      "0.277507\n",
      "0.0\n",
      "0.0\n",
      "0.155199\n",
      "0.0\n",
      "0.0\n",
      "0.245899\n",
      "0.212878\n",
      "0.299991\n",
      "0.0\n",
      "0.0\n",
      "0.34011\n",
      "0.271432\n",
      "0.283707\n",
      "0.0\n",
      "0.0\n",
      "0.55148\n",
      "0.275334\n",
      "0.187035\n",
      "0.0\n",
      "0.208153\n",
      "0.531873\n",
      "0.0\n",
      "0.221242\n",
      "0.249349\n",
      "0.0\n",
      "0.0\n",
      "0.254911\n",
      "0.0\n",
      "0.0\n",
      "0.0\n",
      "0.0\n",
      "0.0\n",
      "0.337558\n",
      "0.285492\n",
      "0.22428\n",
      "0.234418\n",
      "0.471994\n",
      "0.152611\n",
      "0.0\n"
     ]
    }
   ],
   "source": [
    "sim_list =[]\n",
    "#i = 0\n",
    "for (x1i, x2i) in zip(x1, x2):\n",
    "    #print(x[i], y[i])\n",
    "    x1i = x1i.reshape(1,300)\n",
    "    x2i = x2i.reshape(1,300)\n",
    "    sim = cosine_similarity(x1i, x2i)\n",
    "    sim_list.append(sim[0,0])\n",
    "    print(sim[0,0])\n",
    "    #i = i + 1"
   ]
  },
  {
   "cell_type": "code",
   "execution_count": 149,
   "metadata": {
    "scrolled": true
   },
   "outputs": [
    {
     "data": {
      "text/plain": [
       "[0.0,\n",
       " 0.61259508,\n",
       " 0.48224804,\n",
       " 0.87756634,\n",
       " 0.85884625,\n",
       " 0.84066164,\n",
       " 0.79735804,\n",
       " 0.82917309,\n",
       " 0.90668917,\n",
       " 0.91601622,\n",
       " 0.65082794,\n",
       " 0.87585545,\n",
       " 0.48224804,\n",
       " 0.72800839,\n",
       " 0.66922855,\n",
       " 0.0,\n",
       " 0.0,\n",
       " 0.71568,\n",
       " 0.0,\n",
       " 0.78229225,\n",
       " 0.55103028,\n",
       " 0.55103028,\n",
       " 0.52458793,\n",
       " 0.0,\n",
       " 0.67242283,\n",
       " 0.0,\n",
       " 0.0,\n",
       " 0.16992766,\n",
       " 0.0,\n",
       " 0.21111773,\n",
       " 0.0,\n",
       " 0.0,\n",
       " 0.0,\n",
       " 0.20911056,\n",
       " 0.0,\n",
       " 0.0,\n",
       " 0.0,\n",
       " 0.11615004,\n",
       " 0.17920546,\n",
       " 0.17270111,\n",
       " 0.20953906,\n",
       " 0.0,\n",
       " 0.0,\n",
       " 0.0,\n",
       " 0.0,\n",
       " 0.19649294,\n",
       " 0.20321271,\n",
       " 0.22516277,\n",
       " 0.12996365,\n",
       " 0.13040234,\n",
       " 0.0,\n",
       " 0.0,\n",
       " 0.0,\n",
       " 0.16275159,\n",
       " 0.18465787,\n",
       " 0.17189024,\n",
       " 0.18788595,\n",
       " 0.16687775,\n",
       " 0.20740703,\n",
       " 0.0,\n",
       " 0.0,\n",
       " 0.0,\n",
       " 0.0,\n",
       " 0.0,\n",
       " 0.11677337,\n",
       " 0.0,\n",
       " 0.0,\n",
       " 0.0,\n",
       " 0.13095862,\n",
       " 0.16863933,\n",
       " 0.20469536,\n",
       " 0.48407704,\n",
       " 0.51275599,\n",
       " 0.65567493,\n",
       " 0.58082932,\n",
       " 0.55035949,\n",
       " 0.53069758,\n",
       " 0.61663908,\n",
       " 0.39213455,\n",
       " 0.52957654,\n",
       " 0.0,\n",
       " 0.72129703,\n",
       " 0.68043697,\n",
       " 0.52189499,\n",
       " 0.51300383,\n",
       " 0.69590735,\n",
       " 0.71550173,\n",
       " 0.69992042,\n",
       " 0.0,\n",
       " 0.0,\n",
       " 0.32183564,\n",
       " 0.0,\n",
       " 0.37438226,\n",
       " 0.099187523,\n",
       " 0.17742106,\n",
       " 0.3766529,\n",
       " 0.55581594,\n",
       " 0.72514105,\n",
       " 0.62400615,\n",
       " 0.72203493,\n",
       " 0.59487975,\n",
       " 0.12640654,\n",
       " 0.56388158,\n",
       " 0.56702411,\n",
       " 0.31565621,\n",
       " 0.15320075,\n",
       " 0.52101117,\n",
       " 0.33188453,\n",
       " 0.54928929,\n",
       " 0.52107167,\n",
       " 0.5157001,\n",
       " 0.0,\n",
       " 0.28862235,\n",
       " 0.17758241,\n",
       " 0.56268805,\n",
       " 0.24897581,\n",
       " 0.1966309,\n",
       " 0.52422506,\n",
       " 0.57333654,\n",
       " 0.63733578,\n",
       " 0.56758249,\n",
       " 0.34732938,\n",
       " 0.0,\n",
       " 0.56937051,\n",
       " 0.57162559,\n",
       " 0.74056101,\n",
       " 0.71564084,\n",
       " 0.65600246,\n",
       " 0.61172199,\n",
       " 0.6167258,\n",
       " 0.52257848,\n",
       " 0.69332135,\n",
       " 0.63658732,\n",
       " 0.59852874,\n",
       " 0.6170944,\n",
       " 0.59268057,\n",
       " 0.60701013,\n",
       " 0.38272953,\n",
       " 0.62297064,\n",
       " 0.60610545,\n",
       " 0.58603513,\n",
       " 0.50874865,\n",
       " 0.46191797,\n",
       " 0.61471999,\n",
       " 0.22975405,\n",
       " 0.58556104,\n",
       " 0.47973442,\n",
       " 0.0,\n",
       " 0.25298277,\n",
       " 0.0,\n",
       " 0.0,\n",
       " 0.31506702,\n",
       " 0.0,\n",
       " 0.54965675,\n",
       " 0.16580489,\n",
       " 0.0,\n",
       " 0.0,\n",
       " 0.0,\n",
       " 0.0,\n",
       " 0.0,\n",
       " 0.0,\n",
       " 0.44153845,\n",
       " 0.0,\n",
       " 0.0,\n",
       " 0.0,\n",
       " 0.28522098,\n",
       " 0.27750662,\n",
       " 0.0,\n",
       " 0.0,\n",
       " 0.15519938,\n",
       " 0.0,\n",
       " 0.0,\n",
       " 0.2458986,\n",
       " 0.21287756,\n",
       " 0.29999086,\n",
       " 0.0,\n",
       " 0.0,\n",
       " 0.34011048,\n",
       " 0.27143204,\n",
       " 0.28370675,\n",
       " 0.0,\n",
       " 0.0,\n",
       " 0.5514797,\n",
       " 0.27533403,\n",
       " 0.18703459,\n",
       " 0.0,\n",
       " 0.20815347,\n",
       " 0.53187346,\n",
       " 0.0,\n",
       " 0.22124153,\n",
       " 0.24934934,\n",
       " 0.0,\n",
       " 0.0,\n",
       " 0.25491107,\n",
       " 0.0,\n",
       " 0.0,\n",
       " 0.0,\n",
       " 0.0,\n",
       " 0.0,\n",
       " 0.33755845,\n",
       " 0.28549212,\n",
       " 0.22428015,\n",
       " 0.23441815,\n",
       " 0.47199374,\n",
       " 0.1526114,\n",
       " 0.0]"
      ]
     },
     "execution_count": 149,
     "metadata": {},
     "output_type": "execute_result"
    }
   ],
   "source": [
    "sim_list"
   ]
  },
  {
   "cell_type": "code",
   "execution_count": 150,
   "metadata": {
    "collapsed": true,
    "nbpresent": {
     "id": "4e745dca-c6a3-422a-aea8-fd5f596f2035"
    }
   },
   "outputs": [],
   "source": [
    "FILE_READ_SIZE = 1024"
   ]
  },
  {
   "cell_type": "code",
   "execution_count": 151,
   "metadata": {
    "nbpresent": {
     "id": "fae2e496-660e-41e2-b294-be1ff74c6122"
    }
   },
   "outputs": [
    {
     "name": "stdout",
     "output_type": "stream",
     "text": [
      "(300,)\n",
      "[ 0.05126953 -0.02233887 -0.17285156  0.16113281 -0.08447266  0.05737305\n",
      "  0.05859375 -0.08251953 -0.01538086 -0.06347656]\n",
      "Михаил is an out of dictionary word\n",
      "similarity\n",
      "\n",
      "[('queen', 0.7118192911148071), ('monarch', 0.6189674139022827), ('princess', 0.5902431607246399), ('crown_prince', 0.5499460697174072), ('prince', 0.5377321243286133), ('kings', 0.5236844420433044), ('Queen_Consort', 0.5235945582389832), ('queens', 0.5181134343147278), ('sultan', 0.5098593235015869), ('monarchy', 0.5087411999702454)]\n",
      "cereal\n",
      "0.7664012231\n"
     ]
    }
   ],
   "source": [
    "# Load pretrained model (since intermediate data is not included, the model cannot be refined with additional data)\n",
    "\n",
    "dog = model['dog']\n",
    "print(dog.shape)\n",
    "print(dog[:10])\n",
    "\n",
    "# Deal with an out of dictionary word: Михаил (Michail)\n",
    "if 'Михаил' in model:\n",
    "    print(model['Михаил'].shape)\n",
    "else:\n",
    "    print('{0} is an out of dictionary word'.format('Михаил'))\n",
    "\n",
    "# Some predefined functions that show content related information for given words\n",
    "print(\"similarity\\n\")\n",
    "print(model.most_similar(positive=['woman', 'king'], negative=['man']))\n",
    "\n",
    "print(model.doesnt_match(\"breakfast cereal dinner lunch\".split()))\n",
    "\n",
    "print(model.similarity('woman', 'man'))"
   ]
  },
  {
   "cell_type": "code",
   "execution_count": 152,
   "metadata": {
    "nbpresent": {
     "id": "61c2b3b2-d650-4aed-9a15-c633e0c115e1"
    }
   },
   "outputs": [
    {
     "ename": "NameError",
     "evalue": "name 'urllib' is not defined",
     "output_type": "error",
     "traceback": [
      "\u001b[0;31m---------------------------------------------------------------------------\u001b[0m",
      "\u001b[0;31mNameError\u001b[0m                                 Traceback (most recent call last)",
      "\u001b[0;32m<ipython-input-152-c390bd37ba23>\u001b[0m in \u001b[0;36m<module>\u001b[0;34m()\u001b[0m\n\u001b[1;32m      1\u001b[0m \u001b[0murl\u001b[0m \u001b[0;34m=\u001b[0m \u001b[0;34m\"http://abcn.ws/2cMwUPw\"\u001b[0m\u001b[0;34m\u001b[0m\u001b[0m\n\u001b[0;32m----> 2\u001b[0;31m \u001b[0mhtml\u001b[0m \u001b[0;34m=\u001b[0m \u001b[0murllib\u001b[0m\u001b[0;34m.\u001b[0m\u001b[0mrequest\u001b[0m\u001b[0;34m.\u001b[0m\u001b[0murlopen\u001b[0m\u001b[0;34m(\u001b[0m\u001b[0murl\u001b[0m\u001b[0;34m)\u001b[0m\u001b[0;34m.\u001b[0m\u001b[0mread\u001b[0m\u001b[0;34m(\u001b[0m\u001b[0;34m)\u001b[0m\u001b[0;34m\u001b[0m\u001b[0m\n\u001b[0m\u001b[1;32m      3\u001b[0m \u001b[0;34m\u001b[0m\u001b[0m\n\u001b[1;32m      4\u001b[0m \u001b[0msoup\u001b[0m \u001b[0;34m=\u001b[0m \u001b[0mBeautifulSoup\u001b[0m\u001b[0;34m(\u001b[0m\u001b[0mhtml\u001b[0m\u001b[0;34m,\u001b[0m \u001b[0;34m'html.parser'\u001b[0m\u001b[0;34m)\u001b[0m\u001b[0;34m\u001b[0m\u001b[0m\n\u001b[1;32m      5\u001b[0m \u001b[0;34m\u001b[0m\u001b[0m\n",
      "\u001b[0;31mNameError\u001b[0m: name 'urllib' is not defined"
     ]
    }
   ],
   "source": [
    "url = \"http://abcn.ws/2cMwUPw\"    \n",
    "html = urllib.request.urlopen(url).read()    \n",
    "\n",
    "soup = BeautifulSoup(html, 'html.parser')\n",
    "\n",
    "#print(soup.prettify())\n",
    "print(soup.get_text())"
   ]
  },
  {
   "cell_type": "code",
   "execution_count": null,
   "metadata": {
    "collapsed": true,
    "nbpresent": {
     "id": "1353d39f-f147-463f-9564-9c67f52a04a2"
    }
   },
   "outputs": [],
   "source": [
    "print(html)"
   ]
  },
  {
   "cell_type": "code",
   "execution_count": null,
   "metadata": {
    "collapsed": true,
    "nbpresent": {
     "id": "8602b487-510a-470b-bdfd-6d4a31e583f9"
    }
   },
   "outputs": [],
   "source": []
  }
 ],
 "metadata": {
  "kernelspec": {
   "display_name": "Python [conda env:opencv]",
   "language": "python",
   "name": "conda-env-opencv-py"
  },
  "language_info": {
   "codemirror_mode": {
    "name": "ipython",
    "version": 3
   },
   "file_extension": ".py",
   "mimetype": "text/x-python",
   "name": "python",
   "nbconvert_exporter": "python",
   "pygments_lexer": "ipython3",
   "version": "3.6.1"
  }
 },
 "nbformat": 4,
 "nbformat_minor": 2
}
